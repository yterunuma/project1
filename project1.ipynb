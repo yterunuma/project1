{
 "cells": [
  {
   "cell_type": "markdown",
   "id": "60eb453c-6751-4789-84a3-658daf771f89",
   "metadata": {},
   "source": [
    "## This notebook will be mainly used for the capstone project."
   ]
  },
  {
   "cell_type": "markdown",
   "id": "bcc62390-2f01-4ce7-8bcd-61246057e889",
   "metadata": {},
   "source": [
    "This is one of the capstone project for week 1."
   ]
  },
  {
   "cell_type": "code",
   "execution_count": 6,
   "id": "3181104f-3102-4dc7-a21c-2468cd4c2e21",
   "metadata": {},
   "outputs": [],
   "source": [
    "\n",
    "import pandas as pd\n",
    "\n",
    "import numpy as np"
   ]
  },
  {
   "cell_type": "code",
   "execution_count": 7,
   "id": "ee8949bc-5833-44f3-9849-efb12809b959",
   "metadata": {},
   "outputs": [
    {
     "name": "stdout",
     "output_type": "stream",
     "text": [
      "Hello Capstone Project Course!\n"
     ]
    }
   ],
   "source": [
    "print(\"Hello Capstone Project Course!\")"
   ]
  },
  {
   "cell_type": "code",
   "execution_count": null,
   "id": "e326ce55-9685-4ec4-9b98-5013c3e4a272",
   "metadata": {},
   "outputs": [],
   "source": []
  }
 ],
 "metadata": {
  "kernelspec": {
   "display_name": "Python",
   "language": "python",
   "name": "conda-env-python-py"
  },
  "language_info": {
   "codemirror_mode": {
    "name": "ipython",
    "version": 3
   },
   "file_extension": ".py",
   "mimetype": "text/x-python",
   "name": "python",
   "nbconvert_exporter": "python",
   "pygments_lexer": "ipython3",
   "version": "3.6.13"
  }
 },
 "nbformat": 4,
 "nbformat_minor": 5
}
